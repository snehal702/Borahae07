{
 "cells": [
  {
   "cell_type": "markdown",
   "id": "6639aa8f",
   "metadata": {},
   "source": [
    "1. Write a function to compute 5/0 and use try/except to catch the exceptions."
   ]
  },
  {
   "cell_type": "code",
   "execution_count": 10,
   "id": "7e302255",
   "metadata": {},
   "outputs": [],
   "source": [
    "def compute(a):\n",
    "    try:\n",
    "        a/0\n",
    "    except Exception as e:\n",
    "        print(\"in core python we can't divide an integer by 0, it will throw {} exception\".format(e))\n",
    "        import numpy as np\n",
    "        return 'in order to compute a/0 we should use numpy package: {}'.format(np.array([a])/0)"
   ]
  },
  {
   "cell_type": "code",
   "execution_count": 11,
   "id": "6f79ac12",
   "metadata": {},
   "outputs": [
    {
     "name": "stdout",
     "output_type": "stream",
     "text": [
      "in core python we can't divide an integer by 0, it will throw division by zero exception\n"
     ]
    },
    {
     "name": "stderr",
     "output_type": "stream",
     "text": [
      "<ipython-input-10-c81ada12bd4f>:7: RuntimeWarning: divide by zero encountered in true_divide\n",
      "  return 'in order to compute a/0 we should use numpy package: {}'.format(np.array([a])/0)\n"
     ]
    },
    {
     "data": {
      "text/plain": [
       "'in order to compute a/0 we should use numpy package: [inf]'"
      ]
     },
     "execution_count": 11,
     "metadata": {},
     "output_type": "execute_result"
    }
   ],
   "source": [
    "compute(5)"
   ]
  },
  {
   "cell_type": "markdown",
   "id": "102eec14",
   "metadata": {},
   "source": [
    "2. Implement a Python program to generate all sentences where subject is in\n",
    "[\"Americans\", \"Indians\"] and verb is in [\"Play\", \"watch\"] and the object is in\n",
    "[\"Baseball\",\"cricket\"].\n",
    "Hint: Subject,Verb and Object should be declared in the program as shown below.\n",
    "subjects=[\"Americans \",\"Indians\"]\n",
    "verbs=[\"play\",\"watch\"]\n",
    "objects=[\"Baseball\",\"Cricket\"]"
   ]
  },
  {
   "cell_type": "code",
   "execution_count": 42,
   "id": "2bea5675",
   "metadata": {},
   "outputs": [],
   "source": [
    "class Sentences:\n",
    "    def __init__(self,subjects,verbs,objects):\n",
    "        self.subjects = subjects\n",
    "        self.verbs = verbs\n",
    "        self.objects = objects\n",
    "    \n",
    "    @classmethod\n",
    "    def from_user(cls):\n",
    "        return cls(input('subjects : ').split,input('verbs : ').split,input('objects : ').split)\n",
    "    \n",
    "    def create_sentences(self):\n",
    "        print('subjects : {}'.format(self.subjects()))\n",
    "        print('verbs : {}'.format(self.verbs()))\n",
    "        print('objects : {}'.format(self.objects()))\n",
    "        print( ' ')\n",
    "        for i in self.subjects():\n",
    "            for j in self.verbs():\n",
    "                for k in self.objects():\n",
    "                    print(i + ' ' + j + ' ' + k)\n",
    "        "
   ]
  },
  {
   "cell_type": "code",
   "execution_count": 43,
   "id": "6597240b",
   "metadata": {},
   "outputs": [
    {
     "name": "stdout",
     "output_type": "stream",
     "text": [
      "subjects : Americans Indians\n",
      "verbs : play watch\n",
      "objects : Baseball Cricket\n"
     ]
    }
   ],
   "source": [
    "s = Sentences.from_user()"
   ]
  },
  {
   "cell_type": "code",
   "execution_count": 44,
   "id": "07b400b2",
   "metadata": {},
   "outputs": [
    {
     "name": "stdout",
     "output_type": "stream",
     "text": [
      "subjects : ['Americans', 'Indians']\n",
      "verbs : ['play', 'watch']\n",
      "objects : ['Baseball', 'Cricket']\n",
      " \n",
      "Americans play Baseball\n",
      "Americans play Cricket\n",
      "Americans watch Baseball\n",
      "Americans watch Cricket\n",
      "Indians play Baseball\n",
      "Indians play Cricket\n",
      "Indians watch Baseball\n",
      "Indians watch Cricket\n"
     ]
    }
   ],
   "source": [
    "s.create_sentences()"
   ]
  },
  {
   "cell_type": "code",
   "execution_count": null,
   "id": "4f2e8afd",
   "metadata": {},
   "outputs": [],
   "source": []
  }
 ],
 "metadata": {
  "kernelspec": {
   "display_name": "Python 3",
   "language": "python",
   "name": "python3"
  },
  "language_info": {
   "codemirror_mode": {
    "name": "ipython",
    "version": 3
   },
   "file_extension": ".py",
   "mimetype": "text/x-python",
   "name": "python",
   "nbconvert_exporter": "python",
   "pygments_lexer": "ipython3",
   "version": "3.8.11"
  }
 },
 "nbformat": 4,
 "nbformat_minor": 5
}
