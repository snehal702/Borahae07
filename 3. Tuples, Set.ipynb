{
 "cells": [
  {
   "cell_type": "markdown",
   "id": "f611a396",
   "metadata": {},
   "source": [
    "1.1 Write a Python Program to implement your own myreduce() function which works exactly\n",
    "like Python's built-in function reduce()"
   ]
  },
  {
   "cell_type": "code",
   "execution_count": 20,
   "id": "c2a8f884",
   "metadata": {},
   "outputs": [],
   "source": [
    "#my,reduce fun takes in a list and find the minimum of the list elements\n",
    "def myreduce(l):\n",
    "    a = l[0]\n",
    "    for i in range(len(l)-1):\n",
    "        b = l[i+1]\n",
    "        a = min(a,b)\n",
    "    return 'sum is {}'.format(a)"
   ]
  },
  {
   "cell_type": "code",
   "execution_count": 21,
   "id": "95eadeb9",
   "metadata": {},
   "outputs": [
    {
     "data": {
      "text/plain": [
       "'sum is 1'"
      ]
     },
     "execution_count": 21,
     "metadata": {},
     "output_type": "execute_result"
    }
   ],
   "source": [
    "myreduce ([5,8,2,9,3,7,6,1,10,11])"
   ]
  },
  {
   "cell_type": "markdown",
   "id": "10d6c408",
   "metadata": {},
   "source": [
    "1.2 Write a Python program to implement your own myfilter() function which works exactly\n",
    "like Python's built-in function filter()"
   ]
  },
  {
   "cell_type": "code",
   "execution_count": 24,
   "id": "523fd974",
   "metadata": {},
   "outputs": [
    {
     "data": {
      "text/plain": [
       "[6, 12, 18, 24, 30, 36, 42, 48, 54, 60]"
      ]
     },
     "execution_count": 24,
     "metadata": {},
     "output_type": "execute_result"
    }
   ],
   "source": [
    "#myfilter filters out only multiples of 2,3 from the list and returns it\n",
    "m =[]\n",
    "def myfilter(n):\n",
    "    for i in range(1,n+1):\n",
    "        if (i%2==0) and (i%3==0):\n",
    "            m.append(i)\n",
    "    return m\n",
    "\n",
    "myfilter(60)"
   ]
  },
  {
   "cell_type": "markdown",
   "id": "efd5b7aa",
   "metadata": {},
   "source": [
    "2. Implement List comprehensions to produce the following lists.\n",
    "Write List comprehensions to produce the following Lists"
   ]
  },
  {
   "cell_type": "code",
   "execution_count": 31,
   "id": "c93c2c39",
   "metadata": {},
   "outputs": [
    {
     "data": {
      "text/plain": [
       "['x', 'xx', 'xxx', 'xxxx', 'y', 'yy', 'yyy', 'yyyy', 'z', 'zz', 'zzz', 'zzzz']"
      ]
     },
     "execution_count": 31,
     "metadata": {},
     "output_type": "execute_result"
    }
   ],
   "source": [
    "#expected output : ['x', 'xx', 'xxx', 'xxxx', 'y', 'yy', 'yyy', 'yyyy', 'z', 'zz', 'zzz', 'zzzz']\n",
    "# m = []\n",
    "# for i in ['x','y','z']:\n",
    "#     for j in [1,2,3,4]:\n",
    "#         m.append(i*j)\n",
    "# print(m)\n",
    "[i*j for i in ['x','y','z'] for j in [1,2,3,4]]"
   ]
  },
  {
   "cell_type": "code",
   "execution_count": 32,
   "id": "3c111c2b",
   "metadata": {},
   "outputs": [
    {
     "data": {
      "text/plain": [
       "['x', 'y', 'z', 'xx', 'yy', 'zz', 'xxx', 'yyy', 'zzz', 'xxxx', 'yyyy', 'zzzz']"
      ]
     },
     "execution_count": 32,
     "metadata": {},
     "output_type": "execute_result"
    }
   ],
   "source": [
    "#expected output : ['x', 'y', 'z', 'xx', 'yy', 'zz', 'xxx', 'yyy', 'zzz', 'xxxx', 'yyyy', 'zzzz']\n",
    "[i*j for i in [1,2,3,4] for j in ['x','y','z']]"
   ]
  },
  {
   "cell_type": "code",
   "execution_count": 19,
   "id": "e0706484",
   "metadata": {},
   "outputs": [
    {
     "data": {
      "text/plain": [
       "[[2], [3], [4], [3], [4], [5], [4], [5], [6]]"
      ]
     },
     "execution_count": 19,
     "metadata": {},
     "output_type": "execute_result"
    }
   ],
   "source": [
    "#expected output : [[2], [3], [4], [3], [4], [5], [4], [5], [6]]\n",
    "[[i+j] for i in range(3) for j in range(2,5)]\n"
   ]
  },
  {
   "cell_type": "code",
   "execution_count": 28,
   "id": "5a3f8e45",
   "metadata": {},
   "outputs": [
    {
     "data": {
      "text/plain": [
       "[[2, 3, 4, 5], [3, 4, 5, 6], [4, 5, 6, 7], [5, 6, 7, 8]]"
      ]
     },
     "execution_count": 28,
     "metadata": {},
     "output_type": "execute_result"
    }
   ],
   "source": [
    "#expected output : [[2, 3, 4, 5], [3, 4, 5, 6],[4, 5, 6, 7], [5, 6, 7, 8]]\n",
    "[[i+j for j in range(2,6)] for i in range(4)]"
   ]
  },
  {
   "cell_type": "code",
   "execution_count": 30,
   "id": "484857d1",
   "metadata": {},
   "outputs": [
    {
     "data": {
      "text/plain": [
       "[(1, 1), (2, 1), (3, 1), (1, 2), (2, 2), (3, 2), (1, 3), (2, 3), (3, 3)]"
      ]
     },
     "execution_count": 30,
     "metadata": {},
     "output_type": "execute_result"
    }
   ],
   "source": [
    "#expected output :[(1, 1), (2, 1), (3, 1), (1, 2), (2, 2), (3, 2), (1, 3), (2, 3), (3, 3)]\n",
    "[(j,i) for i in [1,2,3] for j in [1,2,3]]"
   ]
  },
  {
   "cell_type": "code",
   "execution_count": null,
   "id": "15fc191d",
   "metadata": {},
   "outputs": [],
   "source": []
  }
 ],
 "metadata": {
  "kernelspec": {
   "display_name": "Python 3",
   "language": "python",
   "name": "python3"
  },
  "language_info": {
   "codemirror_mode": {
    "name": "ipython",
    "version": 3
   },
   "file_extension": ".py",
   "mimetype": "text/x-python",
   "name": "python",
   "nbconvert_exporter": "python",
   "pygments_lexer": "ipython3",
   "version": "3.8.11"
  }
 },
 "nbformat": 4,
 "nbformat_minor": 5
}
