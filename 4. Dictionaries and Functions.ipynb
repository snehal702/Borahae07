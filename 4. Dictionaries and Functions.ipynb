{
 "cells": [
  {
   "cell_type": "markdown",
   "id": "c0c8709e",
   "metadata": {},
   "source": [
    "1.1 Write a Python Program(with class concepts) to find the area of the triangle using the below\n",
    "formula.\n",
    "area = (s*(s-a)*(s-b)*(s-c)) ** 0.5\n",
    "Function to take the length of the sides of triangle from user should be defined in the parent\n",
    "class and function to calculate the area should be defined in subclass."
   ]
  },
  {
   "cell_type": "code",
   "execution_count": 52,
   "id": "0795e6ae",
   "metadata": {},
   "outputs": [],
   "source": [
    "class Dimensions:\n",
    "    def __init__(self,a,b,c):\n",
    "        self.a = a\n",
    "        self.b = b\n",
    "        self.c = c\n",
    "\n",
    "class Area(Dimensions):\n",
    "    \n",
    "    @classmethod\n",
    "    def from_user(cls):\n",
    "        return cls(int(input('a: ')),int(input('b: ')),int(input('c: ')))\n",
    "    def calulatearea(self):\n",
    "        s = (self.a +self.b +self.c)/2\n",
    "        print('the perimeter of traingle is {}'.format(s))\n",
    "        area = (s*(s-self.a)*(s-self.b)*(s-self.c)) ** 0.5\n",
    "        print ('area of the triangle is {}'.format(area))"
   ]
  },
  {
   "cell_type": "code",
   "execution_count": 53,
   "id": "4fe67831",
   "metadata": {},
   "outputs": [
    {
     "name": "stdout",
     "output_type": "stream",
     "text": [
      "a: 2\n",
      "b: 3\n",
      "c: 4\n"
     ]
    }
   ],
   "source": [
    "obj = Area.from_user()\n"
   ]
  },
  {
   "cell_type": "code",
   "execution_count": 54,
   "id": "bb1cfa1e",
   "metadata": {},
   "outputs": [
    {
     "name": "stdout",
     "output_type": "stream",
     "text": [
      "2 3 4\n"
     ]
    }
   ],
   "source": [
    "print(obj.a, obj.b, obj.c)"
   ]
  },
  {
   "cell_type": "code",
   "execution_count": 55,
   "id": "872d9dda",
   "metadata": {},
   "outputs": [
    {
     "name": "stdout",
     "output_type": "stream",
     "text": [
      "the perimeter of traingle is 4.5\n",
      "area of the triangle is 2.9047375096555625\n"
     ]
    }
   ],
   "source": [
    "obj.calulatearea()"
   ]
  },
  {
   "cell_type": "markdown",
   "id": "ac93ef88",
   "metadata": {},
   "source": [
    "1.2 Write a function filter_long_words() that takes a list of words and an integer n and returns\n",
    "the list of words that are longer than n."
   ]
  },
  {
   "cell_type": "code",
   "execution_count": 112,
   "id": "daba7600",
   "metadata": {},
   "outputs": [],
   "source": [
    "class Longwords:\n",
    "    def __init__(self,l1):\n",
    "        self.l1=l1\n",
    "    @classmethod\n",
    "    def from_user(cls):\n",
    "        return cls(input('l1: ').split()) #string passed split on white spaces returned list of each word as an element in list\n",
    "    def filter_long_words(self,n):\n",
    "        longerwords = []\n",
    "        for i in self.l1:\n",
    "            if len(i) >n:\n",
    "                longerwords.append({i:len(i)})\n",
    "        return longerwords"
   ]
  },
  {
   "cell_type": "code",
   "execution_count": 113,
   "id": "1287785e",
   "metadata": {},
   "outputs": [
    {
     "name": "stdout",
     "output_type": "stream",
     "text": [
      "l1: statistics ineuron dictionaries machinelearning deeplearning lists tuples\n"
     ]
    }
   ],
   "source": [
    "l = Longwords.from_user()"
   ]
  },
  {
   "cell_type": "code",
   "execution_count": 115,
   "id": "ac91f5ea",
   "metadata": {},
   "outputs": [
    {
     "data": {
      "text/plain": [
       "list"
      ]
     },
     "execution_count": 115,
     "metadata": {},
     "output_type": "execute_result"
    }
   ],
   "source": [
    "type(l.l1)"
   ]
  },
  {
   "cell_type": "code",
   "execution_count": 118,
   "id": "0f353e75",
   "metadata": {},
   "outputs": [
    {
     "name": "stdout",
     "output_type": "stream",
     "text": [
      "[{'statistics': 10}, {'dictionaries': 12}, {'machinelearning': 15}, {'deeplearning': 12}]\n"
     ]
    }
   ],
   "source": [
    "print(l.filter_long_words(7))"
   ]
  },
  {
   "cell_type": "markdown",
   "id": "dfd81af8",
   "metadata": {},
   "source": [
    "2.1 Write a Python program using function concept that maps list of words into a list of integers\n",
    "representing the lengths of the corresponding words.\n",
    "Hint: If a list [ ab,cde,erty] is passed on to the python function output should come as [2,3,4]\n",
    "Here 2,3 and 4 are the lengths of the words in the list."
   ]
  },
  {
   "cell_type": "code",
   "execution_count": 120,
   "id": "2c54cc18",
   "metadata": {},
   "outputs": [
    {
     "name": "stdout",
     "output_type": "stream",
     "text": [
      "sudh kumar ineuron machinelearning\n",
      "the list of words is : ['sudh', 'kumar', 'ineuron', 'machinelearning']\n"
     ]
    },
    {
     "data": {
      "text/plain": [
       "'the list representing the lengths of the corresponding words is : [4, 5, 7, 15] '"
      ]
     },
     "execution_count": 120,
     "metadata": {},
     "output_type": "execute_result"
    }
   ],
   "source": [
    "def words_into_integers():\n",
    "    words = input().split()\n",
    "    print('the list of words is : {}'.format(words))\n",
    "    word_to_integer=[]\n",
    "    for i in words:\n",
    "        word_to_integer.append(len(i))\n",
    "    return('the list representing the lengths of the corresponding words is : {} '.format(word_to_integer))\n",
    "\n",
    "words_into_integers()"
   ]
  },
  {
   "cell_type": "markdown",
   "id": "234df566",
   "metadata": {},
   "source": [
    "2.2 Write a Python function which takes a character (i.e. a string of length 1) and returns True if\n",
    "it is a vowel, False otherwise."
   ]
  },
  {
   "cell_type": "code",
   "execution_count": 127,
   "id": "240dd401",
   "metadata": {},
   "outputs": [],
   "source": [
    "def isvowel():\n",
    "    vowel = ['a','i','e','o','u']\n",
    "    while True:\n",
    "        try:\n",
    "            char  = input('please enter a single character : ')\n",
    "            if len(char) !=1:\n",
    "                raise Exception ('enter a string/ character of length=1 ')\n",
    "        except Exception as e:\n",
    "            print(e)\n",
    "            continue\n",
    "        else:\n",
    "            if char in vowel:\n",
    "                return True\n",
    "            return False\n",
    "            break\n",
    "        finally:\n",
    "            print('successfully executed !')\n",
    "            \n",
    "        "
   ]
  },
  {
   "cell_type": "code",
   "execution_count": 128,
   "id": "bcd915d2",
   "metadata": {},
   "outputs": [
    {
     "name": "stdout",
     "output_type": "stream",
     "text": [
      "please enter a single character : mo\n",
      "enter a string/ character of length=1 \n",
      "successfully executed !\n",
      "please enter a single character : a\n",
      "successfully executed !\n"
     ]
    },
    {
     "data": {
      "text/plain": [
       "True"
      ]
     },
     "execution_count": 128,
     "metadata": {},
     "output_type": "execute_result"
    }
   ],
   "source": [
    "isvowel()"
   ]
  },
  {
   "cell_type": "code",
   "execution_count": null,
   "id": "7380cf56",
   "metadata": {},
   "outputs": [],
   "source": []
  }
 ],
 "metadata": {
  "kernelspec": {
   "display_name": "Python 3",
   "language": "python",
   "name": "python3"
  },
  "language_info": {
   "codemirror_mode": {
    "name": "ipython",
    "version": 3
   },
   "file_extension": ".py",
   "mimetype": "text/x-python",
   "name": "python",
   "nbconvert_exporter": "python",
   "pygments_lexer": "ipython3",
   "version": "3.8.11"
  }
 },
 "nbformat": 4,
 "nbformat_minor": 5
}
