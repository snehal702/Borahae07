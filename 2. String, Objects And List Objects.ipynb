{
 "cells": [
  {
   "cell_type": "markdown",
   "id": "84ef6e63",
   "metadata": {},
   "source": [
    "1. Create the below pattern using nested for loop in Python.\n",
    "*\n",
    "* *\n",
    "* * *\n",
    "* * * *\n",
    "* * * * *\n",
    "* * * *\n",
    "* * *\n",
    "* *\n",
    "*\n",
    "\n"
   ]
  },
  {
   "cell_type": "code",
   "execution_count": 1,
   "id": "01525589",
   "metadata": {},
   "outputs": [
    {
     "name": "stdout",
     "output_type": "stream",
     "text": [
      "          *  \n",
      "          *  *  \n",
      "          *  *  *  \n",
      "          *  *  *  *  \n",
      "          *  *  *  *  *  \n",
      "          *  *  *  *  \n",
      "          *  *  *  \n",
      "          *  *  \n",
      "          *  \n"
     ]
    }
   ],
   "source": [
    "#solution 1: \n",
    "#for upper triangle\n",
    "for i in range(1,5):\n",
    "    for j in range(i,6):\n",
    "        print(' ', end = ' ')\n",
    "    for j in range(1,i):\n",
    "        print(' ', end = ' ')\n",
    "    for j in range(1,i+1):\n",
    "        print('* ', end = ' ')\n",
    "    print('')\n",
    "#for lower part of the triangle\n",
    "for i in range(1,6):\n",
    "    for j in range(1,i+1):\n",
    "        print(' ', end = ' ')\n",
    "    for j in range(i,5):\n",
    "        print(' ', end = ' ')\n",
    "    for j in range(i,6):\n",
    "        print('* ', end = ' ')\n",
    "    print('')\n",
    "    "
   ]
  },
  {
   "cell_type": "code",
   "execution_count": 3,
   "id": "ddb2b1a9",
   "metadata": {},
   "outputs": [
    {
     "name": "stdout",
     "output_type": "stream",
     "text": [
      "please enter a word : ineuron\n",
      "the word entered is : ineuron\n"
     ]
    },
    {
     "data": {
      "text/plain": [
       "'the reverese of the word entered is : norueni'"
      ]
     },
     "execution_count": 3,
     "metadata": {},
     "output_type": "execute_result"
    }
   ],
   "source": [
    "#2. Write a Python program to reverse a word after accepting the input from the user.\n",
    "#solution 2a: using slicing\n",
    "def reversestr():\n",
    "    word = input('please enter a word : ')\n",
    "    print('the word entered is : {}'.format(word))\n",
    "    return 'the reverese of the word entered is : {}'.format(word[::-1])\n",
    "\n",
    "reversestr()"
   ]
  },
  {
   "cell_type": "code",
   "execution_count": 5,
   "id": "f0ccf009",
   "metadata": {},
   "outputs": [
    {
     "name": "stdout",
     "output_type": "stream",
     "text": [
      "please enter a word : ineuron\n",
      "the reverese of the word entered is : norueni\n"
     ]
    }
   ],
   "source": [
    "#solution 2b: using while loop\n",
    "word = input('please enter a word : ')\n",
    "i = len(word)\n",
    "reversestr =''\n",
    "while i>0:\n",
    "    i-=1\n",
    "    reversestr = reversestr + word[i]\n",
    "print('the reverese of the word entered is : {}'.format(reversestr))\n",
    "    "
   ]
  },
  {
   "cell_type": "code",
   "execution_count": 11,
   "id": "f00a3829",
   "metadata": {},
   "outputs": [
    {
     "name": "stdout",
     "output_type": "stream",
     "text": [
      "please enter a word : ineuron\n",
      "the reverese of the word entered is : norueni\n"
     ]
    }
   ],
   "source": [
    "#solution 2c: using inbuilt reversed function\n",
    "\n",
    "def reverseword():\n",
    "    reversestr=''\n",
    "    word = input('please enter a word : ')\n",
    "    for i in list(reversed(word)):\n",
    "        reversestr = reversestr+i\n",
    "    print( 'the reverese of the word entered is : {}'.format(reversestr))\n",
    "        \n",
    "reverseword()"
   ]
  },
  {
   "cell_type": "code",
   "execution_count": null,
   "id": "93eaf9e1",
   "metadata": {},
   "outputs": [],
   "source": []
  }
 ],
 "metadata": {
  "kernelspec": {
   "display_name": "Python 3",
   "language": "python",
   "name": "python3"
  },
  "language_info": {
   "codemirror_mode": {
    "name": "ipython",
    "version": 3
   },
   "file_extension": ".py",
   "mimetype": "text/x-python",
   "name": "python",
   "nbconvert_exporter": "python",
   "pygments_lexer": "ipython3",
   "version": "3.8.11"
  }
 },
 "nbformat": 4,
 "nbformat_minor": 5
}
